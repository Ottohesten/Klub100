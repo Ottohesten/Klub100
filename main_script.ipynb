{
 "cells": [
  {
   "cell_type": "code",
   "execution_count": null,
   "metadata": {},
   "outputs": [],
   "source": [
    "from pytube import YouTube\n",
    "import pandas as pd\n",
    "import moviepy.editor as mpy\n",
    "import glob\n",
    "\n",
    "from __future__ import print_function\n",
    "\n",
    "import os.path\n",
    "\n",
    "from google.auth.transport.requests import Request\n",
    "from google.oauth2.credentials import Credentials\n",
    "from google_auth_oauthlib.flow import InstalledAppFlow\n",
    "from googleapiclient.discovery import build\n",
    "from googleapiclient.errors import HttpError"
   ]
  },
  {
   "cell_type": "markdown",
   "metadata": {},
   "source": [
    "### GET SONGS FROM SHEET ###"
   ]
  },
  {
   "cell_type": "code",
   "execution_count": null,
   "metadata": {},
   "outputs": [],
   "source": [
    "from __future__ import print_function\n",
    "\n",
    "import os.path\n",
    "\n",
    "from google.auth.transport.requests import Request\n",
    "from google.oauth2.credentials import Credentials\n",
    "from google_auth_oauthlib.flow import InstalledAppFlow\n",
    "from googleapiclient.discovery import build\n",
    "from googleapiclient.errors import HttpError\n",
    "\n",
    "# If modifying these scopes, delete the file token.json.\n",
    "SCOPES = ['https://www.googleapis.com/auth/spreadsheets.readonly']\n",
    "\n",
    "# The ID and range of a sample spreadsheet.\n",
    "SAMPLE_SPREADSHEET_ID = '1dh6EMjRClzus9jI_tcp8f0CVzkM5t_pxs8oAFQ24Ess'\n",
    "SAMPLE_RANGE_NAME = 'Sheet1!A2:D13'\n",
    "\n",
    "\n",
    "def get_songs():\n",
    "    \"\"\"Shows basic usage of the Sheets API.\n",
    "    Prints values from a sample spreadsheet.\n",
    "    \"\"\"\n",
    "    creds = None\n",
    "    # The file token.json stores the user's access and refresh tokens, and is\n",
    "    # created automatically when the authorization flow completes for the first\n",
    "    # time.\n",
    "    if os.path.exists('token.json'):\n",
    "        creds = Credentials.from_authorized_user_file('token.json', SCOPES)\n",
    "    # If there are no (valid) credentials available, let the user log in.\n",
    "    if not creds or not creds.valid:\n",
    "        if creds and creds.expired and creds.refresh_token:\n",
    "            creds.refresh(Request())\n",
    "        else:\n",
    "            flow = InstalledAppFlow.from_client_secrets_file(\n",
    "                'credentials.json', SCOPES)\n",
    "            creds = flow.run_local_server(port=0)\n",
    "        # Save the credentials for the next run\n",
    "        with open('token.json', 'w') as token:\n",
    "            token.write(creds.to_json())\n",
    "\n",
    "    try:\n",
    "        service = build('sheets', 'v4', credentials=creds)\n",
    "\n",
    "        # Call the Sheets API\n",
    "        sheet = service.spreadsheets()\n",
    "        result = sheet.values().get(spreadsheetId=SAMPLE_SPREADSHEET_ID,\n",
    "                                    range=SAMPLE_RANGE_NAME).execute()\n",
    "        values = result.get('values', [])\n",
    "\n",
    "        if not values:\n",
    "            print('No data found.')\n",
    "            return\n",
    "\n",
    "        return values\n",
    "        # print('Name, Major:')\n",
    "        # for row in values:\n",
    "            # Print columns A and E, which correspond to indices 0 and 4.\n",
    "            # print(row)\n",
    "    except HttpError as err:\n",
    "        print(err)\n"
   ]
  },
  {
   "cell_type": "markdown",
   "metadata": {},
   "source": [
    "### DOWNLOAD SONGS ###"
   ]
  },
  {
   "cell_type": "code",
   "execution_count": null,
   "metadata": {},
   "outputs": [],
   "source": [
    "songs = get_songs()\n",
    "df = pd.DataFrame(songs, columns=['Title', 'Link', 'Clip start', 'Clip end'])\n",
    "# df[\"Link\"]\n"
   ]
  },
  {
   "cell_type": "code",
   "execution_count": null,
   "metadata": {},
   "outputs": [],
   "source": [
    "# song_link = \"https://www.youtube.com/watch?v=iPrnduGtgmc\"\n",
    "# YouTube(song_link).streams.get_audio_only()\n"
   ]
  },
  {
   "cell_type": "code",
   "execution_count": null,
   "metadata": {},
   "outputs": [],
   "source": [
    "# DOWNLOAD THE SONGS\n",
    "# df.apply(lambda x: YouTube(x[\"Link\"]).streams.get_audio_only().download(f\"Songs/mp4/\"))\n",
    "result=0\n",
    "# df.apply(download_and_naming, axis=1)\n",
    "df.apply(lambda x: YouTube(x[\"Link\"]).streams.get_audio_only().download(f\"Songs/mp4/\", filename=str(x[\"Title\"])+\".mp4\"), axis=1)"
   ]
  },
  {
   "cell_type": "code",
   "execution_count": 82,
   "metadata": {},
   "outputs": [
    {
     "name": "stdout",
     "output_type": "stream",
     "text": [
      "MoviePy - Writing audio in Songs/mp3/Anastacia - I'm Outta Love_edited.mp3\n"
     ]
    },
    {
     "name": "stderr",
     "output_type": "stream",
     "text": [
      "                                                                      \r"
     ]
    },
    {
     "name": "stdout",
     "output_type": "stream",
     "text": [
      "MoviePy - Done.\n",
      "MoviePy - Writing audio in Songs/mp3/Emil Lange - Det her_edited.mp3\n"
     ]
    },
    {
     "name": "stderr",
     "output_type": "stream",
     "text": [
      "                                                                      \r"
     ]
    },
    {
     "name": "stdout",
     "output_type": "stream",
     "text": [
      "MoviePy - Done.\n",
      "MoviePy - Writing audio in Songs/mp3/Fuld Effekt - Fransk Pige_edited.mp3\n"
     ]
    },
    {
     "name": "stderr",
     "output_type": "stream",
     "text": [
      "                                                                      \r"
     ]
    },
    {
     "name": "stdout",
     "output_type": "stream",
     "text": [
      "MoviePy - Done.\n",
      "MoviePy - Writing audio in Songs/mp3/George Michael - Careless whisper_edited.mp3\n"
     ]
    },
    {
     "name": "stderr",
     "output_type": "stream",
     "text": [
      "                                                                      \r"
     ]
    },
    {
     "name": "stdout",
     "output_type": "stream",
     "text": [
      "MoviePy - Done.\n",
      "MoviePy - Writing audio in Songs/mp3/Macklemore - Can't hold us_edited.mp3\n"
     ]
    },
    {
     "name": "stderr",
     "output_type": "stream",
     "text": [
      "                                                                      \r"
     ]
    },
    {
     "name": "stdout",
     "output_type": "stream",
     "text": [
      "MoviePy - Done.\n",
      "MoviePy - Writing audio in Songs/mp3/Project X - Yeah Yeah Yeahs - Heads Will Roll_edited.mp3\n"
     ]
    },
    {
     "name": "stderr",
     "output_type": "stream",
     "text": [
      "                                                                      \r"
     ]
    },
    {
     "name": "stdout",
     "output_type": "stream",
     "text": [
      "MoviePy - Done.\n",
      "MoviePy - Writing audio in Songs/mp3/Rednex - Cotton Eye Joe_edited.mp3\n"
     ]
    },
    {
     "name": "stderr",
     "output_type": "stream",
     "text": [
      "                                                                      \r"
     ]
    },
    {
     "name": "stdout",
     "output_type": "stream",
     "text": [
      "MoviePy - Done.\n",
      "MoviePy - Writing audio in Songs/mp3/Shouse - All i need_edited.mp3\n"
     ]
    },
    {
     "name": "stderr",
     "output_type": "stream",
     "text": [
      "                                                                      \r"
     ]
    },
    {
     "name": "stdout",
     "output_type": "stream",
     "text": [
      "MoviePy - Done.\n",
      "MoviePy - Writing audio in Songs/mp3/Stromae - Alors on danse_edited.mp3\n"
     ]
    },
    {
     "name": "stderr",
     "output_type": "stream",
     "text": [
      "                                                                     \r"
     ]
    },
    {
     "name": "stdout",
     "output_type": "stream",
     "text": [
      "MoviePy - Done.\n",
      "MoviePy - Writing audio in Songs/mp3/Suspekt - Jeg har det fedt_edited.mp3\n"
     ]
    },
    {
     "name": "stderr",
     "output_type": "stream",
     "text": [
      "                                                                      \r"
     ]
    },
    {
     "name": "stdout",
     "output_type": "stream",
     "text": [
      "MoviePy - Done.\n",
      "MoviePy - Writing audio in Songs/mp3/Tobias Rahim - Stor mand_edited.mp3\n"
     ]
    },
    {
     "name": "stderr",
     "output_type": "stream",
     "text": [
      "                                                                      \r"
     ]
    },
    {
     "name": "stdout",
     "output_type": "stream",
     "text": [
      "MoviePy - Done.\n",
      "MoviePy - Writing audio in Songs/mp3/TONGO - Pumped up kicks_edited.mp3\n"
     ]
    },
    {
     "name": "stderr",
     "output_type": "stream",
     "text": [
      "                                                                      \r"
     ]
    },
    {
     "name": "stdout",
     "output_type": "stream",
     "text": [
      "MoviePy - Done.\n"
     ]
    }
   ],
   "source": [
    "# Define function to name songs\n",
    "def song_naming(x):\n",
    "    result = x.split(\"\\\\\")[-1]\n",
    "    result = result[:-4]\n",
    "    return result\n",
    "\n",
    "SONG_DIRS = glob.glob(\"Songs/mp4/*.mp4\")\n",
    "song_names = map(song_naming, SONG_DIRS)\n",
    "song_names = list(song_names)\n",
    "\n",
    "for i in range(len(SONG_DIRS)):\n",
    "# for i in range(10):\n",
    "    mpy.AudioFileClip(SONG_DIRS[i]).subclip(int(df[df[\"Title\"] == song_names[i]][\"Clip start\"]), int(df[df[\"Title\"] == song_names[i]][\"Clip end\"])).write_audiofile(f\"Songs/mp3/{song_names[i]}_edited.mp3\")\n",
    "\n",
    "\n",
    "# mpy.AudioFileClip(SONG_DIRS[3]).subclip(0, 10).write_audiofile(f\"Songs/mp3/{song_names[3]}_edited.mp3\")\n",
    "# mpy.AudioFileClip(SONG_DIRS).write_audiofile(\"Songs/mp3/test.mp3\")"
   ]
  },
  {
   "cell_type": "code",
   "execution_count": 81,
   "metadata": {},
   "outputs": [
    {
     "data": {
      "text/plain": [
       "38"
      ]
     },
     "execution_count": 81,
     "metadata": {},
     "output_type": "execute_result"
    }
   ],
   "source": [
    "int(df[df[\"Title\"] == song_names[i]][\"Clip start\"])"
   ]
  },
  {
   "cell_type": "code",
   "execution_count": null,
   "metadata": {},
   "outputs": [],
   "source": []
  }
 ],
 "metadata": {
  "interpreter": {
   "hash": "282e47017af89c0898cbe0f08ce81d6cf3889dc9c11f2536cfd0f2cd332c7c84"
  },
  "kernelspec": {
   "display_name": "Python 3.8.8 ('env': venv)",
   "language": "python",
   "name": "python3"
  },
  "language_info": {
   "codemirror_mode": {
    "name": "ipython",
    "version": 3
   },
   "file_extension": ".py",
   "mimetype": "text/x-python",
   "name": "python",
   "nbconvert_exporter": "python",
   "pygments_lexer": "ipython3",
   "version": "3.8.5"
  },
  "orig_nbformat": 4
 },
 "nbformat": 4,
 "nbformat_minor": 2
}
